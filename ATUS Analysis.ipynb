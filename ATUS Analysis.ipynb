{
 "cells": [
  {
   "cell_type": "code",
   "execution_count": 168,
   "metadata": {
    "collapsed": true
   },
   "outputs": [],
   "source": [
    "import re\n",
    "import pandas as pd\n",
    "import matplotlib.pyplot as plt\n",
    "import seaborn as sns"
   ]
  },
  {
   "cell_type": "code",
   "execution_count": 2,
   "metadata": {
    "collapsed": true
   },
   "outputs": [],
   "source": [
    "%matplotlib inline"
   ]
  },
  {
   "cell_type": "code",
   "execution_count": 3,
   "metadata": {
    "collapsed": false
   },
   "outputs": [
    {
     "name": "stdout",
     "output_type": "stream",
     "text": [
      "<class 'pandas.core.frame.DataFrame'>\n",
      "Int64Index: 11385 entries, 0 to 11384\n",
      "Columns: 413 entries, tucaseid to t500107\n",
      "dtypes: float64(1), int64(412)\n",
      "memory usage: 36.0 MB\n"
     ]
    }
   ],
   "source": [
    "summary = pd.read_csv(\"atusdata/atussum_2013.dat\")\n",
    "summary.info()"
   ]
  },
  {
   "cell_type": "code",
   "execution_count": 4,
   "metadata": {
    "collapsed": false
   },
   "outputs": [
    {
     "data": {
      "text/plain": [
       "Index(['tucaseid', 'TUFINLWGT', 'TRYHHCHILD', 'TEAGE', 'TESEX', 'PEEDUCA',\n",
       "       'PTDTRACE', 'PEHSPNON', 'GTMETSTA', 'TELFS', \n",
       "       ...\n",
       "       't181501', 't181599', 't181601', 't181801', 't189999', 't500101',\n",
       "       't500103', 't500105', 't500106', 't500107'],\n",
       "      dtype='object', length=413)"
      ]
     },
     "execution_count": 4,
     "metadata": {},
     "output_type": "execute_result"
    }
   ],
   "source": [
    "summary.columns"
   ]
  },
  {
   "cell_type": "markdown",
   "metadata": {},
   "source": [
    "Pertinent columns:\n",
    "\n",
    "* TUFINLWGT - statistical weight of respondent\n",
    "* TRYHHCHILD - age of youngest child in household (-1 means no children)\n",
    "* TEAGE - age of respondent\n",
    "* TESEX - sex of respondent\n",
    "* TELFS - working status of respondent\n",
    "* TRCHILDNUM - number of children in household"
   ]
  },
  {
   "cell_type": "code",
   "execution_count": 5,
   "metadata": {
    "collapsed": false
   },
   "outputs": [
    {
     "data": {
      "text/html": [
       "<div>\n",
       "<table border=\"1\" class=\"dataframe\">\n",
       "  <thead>\n",
       "    <tr style=\"text-align: right;\">\n",
       "      <th></th>\n",
       "      <th>tucaseid</th>\n",
       "      <th>TUFINLWGT</th>\n",
       "      <th>TRYHHCHILD</th>\n",
       "      <th>TEAGE</th>\n",
       "      <th>TESEX</th>\n",
       "      <th>PEEDUCA</th>\n",
       "      <th>PTDTRACE</th>\n",
       "      <th>PEHSPNON</th>\n",
       "      <th>GTMETSTA</th>\n",
       "      <th>TELFS</th>\n",
       "      <th>...</th>\n",
       "      <th>t181501</th>\n",
       "      <th>t181599</th>\n",
       "      <th>t181601</th>\n",
       "      <th>t181801</th>\n",
       "      <th>t189999</th>\n",
       "      <th>t500101</th>\n",
       "      <th>t500103</th>\n",
       "      <th>t500105</th>\n",
       "      <th>t500106</th>\n",
       "      <th>t500107</th>\n",
       "    </tr>\n",
       "  </thead>\n",
       "  <tbody>\n",
       "    <tr>\n",
       "      <th>0</th>\n",
       "      <td>20130101130004</td>\n",
       "      <td>11899905.662034</td>\n",
       "      <td>12</td>\n",
       "      <td>22</td>\n",
       "      <td>2</td>\n",
       "      <td>40</td>\n",
       "      <td>8</td>\n",
       "      <td>2</td>\n",
       "      <td>1</td>\n",
       "      <td>5</td>\n",
       "      <td>...</td>\n",
       "      <td>0</td>\n",
       "      <td>0</td>\n",
       "      <td>0</td>\n",
       "      <td>0</td>\n",
       "      <td>0</td>\n",
       "      <td>0</td>\n",
       "      <td>0</td>\n",
       "      <td>0</td>\n",
       "      <td>0</td>\n",
       "      <td>0</td>\n",
       "    </tr>\n",
       "    <tr>\n",
       "      <th>1</th>\n",
       "      <td>20130101130112</td>\n",
       "      <td>4447638.009513</td>\n",
       "      <td>1</td>\n",
       "      <td>39</td>\n",
       "      <td>1</td>\n",
       "      <td>43</td>\n",
       "      <td>1</td>\n",
       "      <td>2</td>\n",
       "      <td>1</td>\n",
       "      <td>1</td>\n",
       "      <td>...</td>\n",
       "      <td>0</td>\n",
       "      <td>0</td>\n",
       "      <td>0</td>\n",
       "      <td>0</td>\n",
       "      <td>0</td>\n",
       "      <td>0</td>\n",
       "      <td>0</td>\n",
       "      <td>0</td>\n",
       "      <td>0</td>\n",
       "      <td>0</td>\n",
       "    </tr>\n",
       "    <tr>\n",
       "      <th>2</th>\n",
       "      <td>20130101130123</td>\n",
       "      <td>10377056.507734</td>\n",
       "      <td>-1</td>\n",
       "      <td>47</td>\n",
       "      <td>2</td>\n",
       "      <td>40</td>\n",
       "      <td>1</td>\n",
       "      <td>2</td>\n",
       "      <td>1</td>\n",
       "      <td>4</td>\n",
       "      <td>...</td>\n",
       "      <td>25</td>\n",
       "      <td>0</td>\n",
       "      <td>0</td>\n",
       "      <td>0</td>\n",
       "      <td>0</td>\n",
       "      <td>0</td>\n",
       "      <td>0</td>\n",
       "      <td>0</td>\n",
       "      <td>0</td>\n",
       "      <td>0</td>\n",
       "    </tr>\n",
       "    <tr>\n",
       "      <th>3</th>\n",
       "      <td>20130101130611</td>\n",
       "      <td>7731257.992805</td>\n",
       "      <td>-1</td>\n",
       "      <td>50</td>\n",
       "      <td>2</td>\n",
       "      <td>40</td>\n",
       "      <td>1</td>\n",
       "      <td>1</td>\n",
       "      <td>1</td>\n",
       "      <td>1</td>\n",
       "      <td>...</td>\n",
       "      <td>0</td>\n",
       "      <td>0</td>\n",
       "      <td>0</td>\n",
       "      <td>0</td>\n",
       "      <td>0</td>\n",
       "      <td>0</td>\n",
       "      <td>0</td>\n",
       "      <td>0</td>\n",
       "      <td>0</td>\n",
       "      <td>0</td>\n",
       "    </tr>\n",
       "    <tr>\n",
       "      <th>4</th>\n",
       "      <td>20130101130616</td>\n",
       "      <td>4725269.227067</td>\n",
       "      <td>-1</td>\n",
       "      <td>45</td>\n",
       "      <td>2</td>\n",
       "      <td>40</td>\n",
       "      <td>2</td>\n",
       "      <td>2</td>\n",
       "      <td>1</td>\n",
       "      <td>1</td>\n",
       "      <td>...</td>\n",
       "      <td>0</td>\n",
       "      <td>0</td>\n",
       "      <td>0</td>\n",
       "      <td>0</td>\n",
       "      <td>0</td>\n",
       "      <td>0</td>\n",
       "      <td>0</td>\n",
       "      <td>0</td>\n",
       "      <td>0</td>\n",
       "      <td>0</td>\n",
       "    </tr>\n",
       "  </tbody>\n",
       "</table>\n",
       "<p>5 rows × 413 columns</p>\n",
       "</div>"
      ],
      "text/plain": [
       "         tucaseid        TUFINLWGT  TRYHHCHILD  TEAGE  TESEX  PEEDUCA  \\\n",
       "0  20130101130004  11899905.662034          12     22      2       40   \n",
       "1  20130101130112   4447638.009513           1     39      1       43   \n",
       "2  20130101130123  10377056.507734          -1     47      2       40   \n",
       "3  20130101130611   7731257.992805          -1     50      2       40   \n",
       "4  20130101130616   4725269.227067          -1     45      2       40   \n",
       "\n",
       "   PTDTRACE  PEHSPNON  GTMETSTA  TELFS   ...     t181501  t181599  t181601  \\\n",
       "0         8         2         1      5   ...           0        0        0   \n",
       "1         1         2         1      1   ...           0        0        0   \n",
       "2         1         2         1      4   ...          25        0        0   \n",
       "3         1         1         1      1   ...           0        0        0   \n",
       "4         2         2         1      1   ...           0        0        0   \n",
       "\n",
       "   t181801  t189999  t500101  t500103  t500105  t500106  t500107  \n",
       "0        0        0        0        0        0        0        0  \n",
       "1        0        0        0        0        0        0        0  \n",
       "2        0        0        0        0        0        0        0  \n",
       "3        0        0        0        0        0        0        0  \n",
       "4        0        0        0        0        0        0        0  \n",
       "\n",
       "[5 rows x 413 columns]"
      ]
     },
     "execution_count": 5,
     "metadata": {},
     "output_type": "execute_result"
    }
   ],
   "source": [
    "summary.head()"
   ]
  },
  {
   "cell_type": "code",
   "execution_count": 69,
   "metadata": {
    "collapsed": false
   },
   "outputs": [],
   "source": [
    "adults_crit = summary.TEAGE >= 18\n",
    "child_crit = summary.TEAGE < 18\n",
    "no_children_crit = summary.TRCHILDNUM == 0\n",
    "with_children_crit = summary.TRCHILDNUM > 0\n",
    "men_crit = summary.TESEX == 1\n",
    "women_crit = summary.TESEX == 2\n",
    "married_crit = summary.TRSPPRES == 1\n",
    "with_partner_crit = summary.TRSPPRES == 2\n",
    "single_crit = summary.TRSPPRES == 3\n",
    "millenials_crit_1 = summary.TEAGE <= 29\n",
    "gen_x_crit_1 = summary.TEAGE > 29\n",
    "gen_x_crit_2 = summary.TEAGE < 49\n",
    "boomers_crit_1 = summary.TEAGE >= 49\n",
    "boomers_crit_2 = summary.TEAGE <= 67"
   ]
  },
  {
   "cell_type": "markdown",
   "metadata": {},
   "source": [
    "# Demographic Groups"
   ]
  },
  {
   "cell_type": "code",
   "execution_count": 70,
   "metadata": {
    "collapsed": false
   },
   "outputs": [],
   "source": [
    "adults = summary[adults_crit]\n",
    "children = summary[child_crit]\n",
    "people_no_children = summary[no_children_crit]\n",
    "people_with_children = summary[with_children_crit]\n",
    "men = summary[men_crit]\n",
    "women = summary[women_crit]\n",
    "men_no_children = summary[men_crit & no_children_crit]\n",
    "men_with_children = summary[men_crit & with_children_crit]\n",
    "women_no_children = summary[women_crit & no_children_crit]\n",
    "women_with_children = summary[women_crit & with_children_crit]\n",
    "married = summary[married_crit]\n",
    "single = summary[single_crit]\n",
    "live_with_partner = summary[with_partner_crit]\n",
    "married_with_children = summary[married_crit & with_children_crit]\n",
    "married_no_children = summary[married_crit & no_children_crit]\n",
    "single_with_children = summary[single_crit & with_children_crit]\n",
    "single_no_children = summary[single_crit & no_children_crit]\n",
    "millenials = summary[adults_crit & millenials_crit_1]\n",
    "gen_x = summary[gen_x_crit_1 & gen_x_crit_2]\n",
    "boomers = summary[boomers_crit_1 & boomers_crit_2]"
   ]
  },
  {
   "cell_type": "code",
   "execution_count": 46,
   "metadata": {
    "collapsed": false
   },
   "outputs": [],
   "source": [
    "def activity_columns(data, activity_code):\n",
    "    \"\"\"For the activity code given, return all columns that fall under that activity.\"\"\"\n",
    "    col_prefix = \"t{}\".format(activity_code)\n",
    "    return [column for column in data.columns if re.match(col_prefix, column)]\n",
    "\n",
    "def average_minutes(data, activity_code):\n",
    "    cols = activity_columns(data, activity_code)\n",
    "    activity_data = data[cols]\n",
    "    activity_sums = activity_data.sum(axis=1)\n",
    "    data = data[['TUFINLWGT']]\n",
    "    data['minutes'] = activity_sums\n",
    "    data = data.rename(columns={\"TUFINLWGT\": \"weight\"})\n",
    "    data['weighted_minutes'] = data.weight * data.minutes\n",
    "    return data.weighted_minutes.sum() / data.weight.sum()"
   ]
  },
  {
   "cell_type": "code",
   "execution_count": 162,
   "metadata": {
    "collapsed": false
   },
   "outputs": [
    {
     "name": "stderr",
     "output_type": "stream",
     "text": [
      "/Users/abarringer/new_python/.direnv/python-3.5.0/lib/python3.5/site-packages/ipykernel/__main__.py:11: SettingWithCopyWarning: \n",
      "A value is trying to be set on a copy of a slice from a DataFrame.\n",
      "Try using .loc[row_indexer,col_indexer] = value instead\n",
      "\n",
      "See the the caveats in the documentation: http://pandas.pydata.org/pandas-docs/stable/indexing.html#indexing-view-versus-copy\n"
     ]
    },
    {
     "data": {
      "text/plain": [
       "10.038484964938393"
      ]
     },
     "execution_count": 162,
     "metadata": {},
     "output_type": "execute_result"
    }
   ],
   "source": [
    "average_minutes(women, '14')"
   ]
  },
  {
   "cell_type": "code",
   "execution_count": 147,
   "metadata": {
    "collapsed": false
   },
   "outputs": [],
   "source": [
    "def activity_present(data, activity_code, minutes):\n",
    "    cols = activity_columns(data, activity_code)\n",
    "    data[\"sum\"] = data[cols].sum(axis=1)\n",
    "    activity_data = data[data[\"sum\"] >= minutes]\n",
    "    return activity_data.drop(\"sum\", axis=1)\n",
    "\n",
    "def no_activity(data, activity_code):\n",
    "    cols = activity_columns(data, activity_code)\n",
    "    data[\"sum\"] = data[cols].sum(axis=1)\n",
    "    activity_data = data[data[\"sum\"] == 0]\n",
    "    return activity_data.drop(\"sum\", axis=1)"
   ]
  },
  {
   "cell_type": "code",
   "execution_count": 173,
   "metadata": {
    "collapsed": false
   },
   "outputs": [
    {
     "name": "stderr",
     "output_type": "stream",
     "text": [
      "/Users/abarringer/new_python/.direnv/python-3.5.0/lib/python3.5/site-packages/ipykernel/__main__.py:11: SettingWithCopyWarning: \n",
      "A value is trying to be set on a copy of a slice from a DataFrame.\n",
      "Try using .loc[row_indexer,col_indexer] = value instead\n",
      "\n",
      "See the the caveats in the documentation: http://pandas.pydata.org/pandas-docs/stable/indexing.html#indexing-view-versus-copy\n"
     ]
    }
   ],
   "source": [
    "all_religion = average_minutes(summary, \"14\")\n",
    "men_religion = average_minutes(men, \"14\")\n",
    "women_religion = average_minutes(women, \"14\")"
   ]
  },
  {
   "cell_type": "code",
   "execution_count": 166,
   "metadata": {
    "collapsed": true
   },
   "outputs": [],
   "source": [
    "religion_by_sex = pd.Series({\"Men\": men_religion, \"Women\": women_religion})"
   ]
  },
  {
   "cell_type": "code",
   "execution_count": 192,
   "metadata": {
    "collapsed": false
   },
   "outputs": [
    {
     "data": {
      "image/png": "[encoded data removed]",
      "text/plain": [
       "<matplotlib.figure.Figure at 0x11214ebe0>"
      ]
     },
     "metadata": {},
     "output_type": "display_data"
    }
   ],
   "source": [
    "religion_by_sex.plot(kind=\"bar\", label=\"Minutes\", title=\"Avg Minutes per Day for Religious Activity\")\n",
    "plt.hlines(all_religion, xmin=-1, xmax=12, linestyle=\"dashed\", label=\"Total Avg Minutes\")\n",
    "plt.legend()\n",
    "plt.show()"
   ]
  },
  {
   "cell_type": "code",
   "execution_count": 182,
   "metadata": {
    "collapsed": false
   },
   "outputs": [
    {
     "name": "stderr",
     "output_type": "stream",
     "text": [
      "/Users/abarringer/new_python/.direnv/python-3.5.0/lib/python3.5/site-packages/ipykernel/__main__.py:11: SettingWithCopyWarning: \n",
      "A value is trying to be set on a copy of a slice from a DataFrame.\n",
      "Try using .loc[row_indexer,col_indexer] = value instead\n",
      "\n",
      "See the the caveats in the documentation: http://pandas.pydata.org/pandas-docs/stable/indexing.html#indexing-view-versus-copy\n"
     ]
    }
   ],
   "source": [
    "millenials_religion = average_minutes(millenials, \"14\")\n",
    "gen_x_religion = average_minutes(gen_x, \"14\")\n",
    "boomers_religion = average_minutes(boomers, \"14\")"
   ]
  },
  {
   "cell_type": "code",
   "execution_count": 183,
   "metadata": {
    "collapsed": true
   },
   "outputs": [],
   "source": [
    "religion_by_age = pd.Series({\"Millenials\": millenials_religion, \"Gen X\": gen_x_religion, \"Boomers\": boomers_religion})"
   ]
  },
  {
   "cell_type": "code",
   "execution_count": 191,
   "metadata": {
    "collapsed": false
   },
   "outputs": [
    {
     "data": {
      "image/png": "[encoded data removed]",
      "text/plain": [
       "<matplotlib.figure.Figure at 0x111c4eeb8>"
      ]
     },
     "metadata": {},
     "output_type": "display_data"
    }
   ],
   "source": [
    "religion_by_age.plot(kind=\"bar\", label=\"Minutes\", title=\"Avg Minutes per Day for Religious Activity\")\n",
    "plt.hlines(all_religion, xmin=-1, xmax=12, linestyle=\"dashed\", label=\"Total Avg Minutes\")\n",
    "plt.legend()\n",
    "plt.show()"
   ]
  },
  {
   "cell_type": "markdown",
   "metadata": {},
   "source": [
    "# Gender/Age Demographics"
   ]
  },
  {
   "cell_type": "code",
   "execution_count": 201,
   "metadata": {
    "collapsed": true
   },
   "outputs": [],
   "source": [
    "men_millenials = summary[men_crit & adults_crit & millenials_crit_1]\n",
    "women_millenials = summary[women_crit & adults_crit & millenials_crit_1]\n",
    "men_gen_x = summary[men_crit & gen_x_crit_1 & gen_x_crit_2]\n",
    "women_gen_x = summary[women_crit & gen_x_crit_1 & gen_x_crit_2]\n",
    "men_boomers = summary[men_crit & boomers_crit_1 & boomers_crit_2]\n",
    "women_boomers = summary[women_crit & boomers_crit_1 & boomers_crit_2]"
   ]
  },
  {
   "cell_type": "code",
   "execution_count": 205,
   "metadata": {
    "collapsed": false
   },
   "outputs": [
    {
     "name": "stderr",
     "output_type": "stream",
     "text": [
      "/Users/abarringer/new_python/.direnv/python-3.5.0/lib/python3.5/site-packages/ipykernel/__main__.py:11: SettingWithCopyWarning: \n",
      "A value is trying to be set on a copy of a slice from a DataFrame.\n",
      "Try using .loc[row_indexer,col_indexer] = value instead\n",
      "\n",
      "See the the caveats in the documentation: http://pandas.pydata.org/pandas-docs/stable/indexing.html#indexing-view-versus-copy\n"
     ]
    }
   ],
   "source": [
    "men_mill_religion = average_minutes(men_millenials, \"14\")\n",
    "women_mill_religion = average_minutes(women_millenials, \"14\")\n",
    "men_genx_religion = average_minutes(men_gen_x, \"14\")\n",
    "women_genx_religion = average_minutes(women_gen_x, \"14\")\n",
    "men_boomers_religion = average_minutes(men_boomers, \"14\")\n",
    "women_boomers_religion = average_minutes(women_boomers, \"14\")"
   ]
  },
  {
   "cell_type": "code",
   "execution_count": 213,
   "metadata": {
    "collapsed": false
   },
   "outputs": [],
   "source": [
    "mmrel = {\"Gender\": \"Men\", \"Age Group\": \"Millenials\", \"Religious Activity\": men_mill_religion}\n",
    "wmrel = {\"Gender\": \"Women\", \"Age Group\": \"Millenials\", \"Religious Activity\": women_mill_religion}\n",
    "mxrel = {\"Gender\": \"Men\", \"Age Group\": \"Gen X\", \"Religious Activity\": men_genx_religion}\n",
    "wxrel = {\"Gender\": \"Women\", \"Age Group\": \"Gen X\", \"Religious Activity\": women_genx_religion}\n",
    "mbrel = {\"Gender\": \"Men\", \"Age Group\": \"Boomers\", \"Religious Activity\": men_boomers_religion}\n",
    "wbrel = {\"Gender\": \"Women\", \"Age Group\": \"Boomers\", \"Religious Activity\": women_boomers_religion}\n",
    "religion_agemf = pd.DataFrame([mmrel, wmrel, mxrel, wxrel, mbrel, wbrel])"
   ]
  },
  {
   "cell_type": "code",
   "execution_count": 214,
   "metadata": {
    "collapsed": false
   },
   "outputs": [],
   "source": [
    "religion_agemf\n",
    "religion_table = pd.pivot_table(religion_agemf, values=\"Religious Activity\", index=\"Age Group\", columns=\"Gender\")"
   ]
  },
  {
   "cell_type": "code",
   "execution_count": 222,
   "metadata": {
    "collapsed": false
   },
   "outputs": [
    {
     "data": {
      "image/png": "[encoded data removed]",
      "text/plain": [
       "<matplotlib.figure.Figure at 0x109e716d8>"
      ]
     },
     "metadata": {},
     "output_type": "display_data"
    }
   ],
   "source": [
    "religion_table.plot(kind=\"bar\", label=\"Minutes\", title=\"Avg Minutes per Day for Religious Activity by Age\")\n",
    "plt.hlines(all_religion, xmin=-1, xmax=12, linestyle=\"dashed\", label=\"Mean for Survey\")\n",
    "plt.legend()\n",
    "plt.show()"
   ]
  },
  {
   "cell_type": "code",
   "execution_count": null,
   "metadata": {
    "collapsed": true
   },
   "outputs": [],
   "source": []
  }
 ],
 "metadata": {
  "kernelspec": {
   "display_name": "Python 3",
   "language": "python",
   "name": "python3"
  },
  "language_info": {
   "codemirror_mode": {
    "name": "ipython",
    "version": 3
   },
   "file_extension": ".py",
   "mimetype": "text/x-python",
   "name": "python",
   "nbconvert_exporter": "python",
   "pygments_lexer": "ipython3",
   "version": "3.5.0"
  }
 },
 "nbformat": 4,
 "nbformat_minor": 0
}
