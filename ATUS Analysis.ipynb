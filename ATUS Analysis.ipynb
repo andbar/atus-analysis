{
 "cells": [
  {
   "cell_type": "code",
   "execution_count": 2,
   "metadata": {
    "collapsed": true
   },
   "outputs": [],
   "source": [
    "import re\n",
    "import pandas as pd\n",
    "import matplotlib.pyplot as plt\n",
    "import seaborn as sns"
   ]
  },
  {
   "cell_type": "code",
   "execution_count": 3,
   "metadata": {
    "collapsed": true
   },
   "outputs": [],
   "source": [
    "%matplotlib inline"
   ]
  },
  {
   "cell_type": "code",
   "execution_count": 4,
   "metadata": {
    "collapsed": false
   },
   "outputs": [
    {
     "name": "stdout",
     "output_type": "stream",
     "text": [
      "<class 'pandas.core.frame.DataFrame'>\n",
      "Int64Index: 11385 entries, 0 to 11384\n",
      "Columns: 413 entries, tucaseid to t500107\n",
      "dtypes: float64(1), int64(412)\n",
      "memory usage: 36.0 MB\n"
     ]
    }
   ],
   "source": [
    "summary = pd.read_csv(\"atusdata/atussum_2013.dat\")\n",
    "summary.info()"
   ]
  },
  {
   "cell_type": "code",
   "execution_count": 5,
   "metadata": {
    "collapsed": false
   },
   "outputs": [
    {
     "data": {
      "text/plain": [
       "Index(['tucaseid', 'TUFINLWGT', 'TRYHHCHILD', 'TEAGE', 'TESEX', 'PEEDUCA',\n",
       "       'PTDTRACE', 'PEHSPNON', 'GTMETSTA', 'TELFS', \n",
       "       ...\n",
       "       't181501', 't181599', 't181601', 't181801', 't189999', 't500101',\n",
       "       't500103', 't500105', 't500106', 't500107'],\n",
       "      dtype='object', length=413)"
      ]
     },
     "execution_count": 5,
     "metadata": {},
     "output_type": "execute_result"
    }
   ],
   "source": [
    "summary.columns"
   ]
  },
  {
   "cell_type": "markdown",
   "metadata": {},
   "source": [
    "Pertinent columns:\n",
    "\n",
    "* TUFINLWGT - statistical weight of respondent\n",
    "* TRYHHCHILD - age of youngest child in household (-1 means no children)\n",
    "* TEAGE - age of respondent\n",
    "* TESEX - sex of respondent\n",
    "* TELFS - working status of respondent\n",
    "* TRCHILDNUM - number of children in household"
   ]
  },
  {
   "cell_type": "code",
   "execution_count": 6,
   "metadata": {
    "collapsed": false
   },
   "outputs": [
    {
     "data": {
      "text/html": [
       "<div>\n",
       "<table border=\"1\" class=\"dataframe\">\n",
       "  <thead>\n",
       "    <tr style=\"text-align: right;\">\n",
       "      <th></th>\n",
       "      <th>tucaseid</th>\n",
       "      <th>TUFINLWGT</th>\n",
       "      <th>TRYHHCHILD</th>\n",
       "      <th>TEAGE</th>\n",
       "      <th>TESEX</th>\n",
       "      <th>PEEDUCA</th>\n",
       "      <th>PTDTRACE</th>\n",
       "      <th>PEHSPNON</th>\n",
       "      <th>GTMETSTA</th>\n",
       "      <th>TELFS</th>\n",
       "      <th>...</th>\n",
       "      <th>t181501</th>\n",
       "      <th>t181599</th>\n",
       "      <th>t181601</th>\n",
       "      <th>t181801</th>\n",
       "      <th>t189999</th>\n",
       "      <th>t500101</th>\n",
       "      <th>t500103</th>\n",
       "      <th>t500105</th>\n",
       "      <th>t500106</th>\n",
       "      <th>t500107</th>\n",
       "    </tr>\n",
       "  </thead>\n",
       "  <tbody>\n",
       "    <tr>\n",
       "      <th>0</th>\n",
       "      <td>20130101130004</td>\n",
       "      <td>11899905.662034</td>\n",
       "      <td>12</td>\n",
       "      <td>22</td>\n",
       "      <td>2</td>\n",
       "      <td>40</td>\n",
       "      <td>8</td>\n",
       "      <td>2</td>\n",
       "      <td>1</td>\n",
       "      <td>5</td>\n",
       "      <td>...</td>\n",
       "      <td>0</td>\n",
       "      <td>0</td>\n",
       "      <td>0</td>\n",
       "      <td>0</td>\n",
       "      <td>0</td>\n",
       "      <td>0</td>\n",
       "      <td>0</td>\n",
       "      <td>0</td>\n",
       "      <td>0</td>\n",
       "      <td>0</td>\n",
       "    </tr>\n",
       "    <tr>\n",
       "      <th>1</th>\n",
       "      <td>20130101130112</td>\n",
       "      <td>4447638.009513</td>\n",
       "      <td>1</td>\n",
       "      <td>39</td>\n",
       "      <td>1</td>\n",
       "      <td>43</td>\n",
       "      <td>1</td>\n",
       "      <td>2</td>\n",
       "      <td>1</td>\n",
       "      <td>1</td>\n",
       "      <td>...</td>\n",
       "      <td>0</td>\n",
       "      <td>0</td>\n",
       "      <td>0</td>\n",
       "      <td>0</td>\n",
       "      <td>0</td>\n",
       "      <td>0</td>\n",
       "      <td>0</td>\n",
       "      <td>0</td>\n",
       "      <td>0</td>\n",
       "      <td>0</td>\n",
       "    </tr>\n",
       "    <tr>\n",
       "      <th>2</th>\n",
       "      <td>20130101130123</td>\n",
       "      <td>10377056.507734</td>\n",
       "      <td>-1</td>\n",
       "      <td>47</td>\n",
       "      <td>2</td>\n",
       "      <td>40</td>\n",
       "      <td>1</td>\n",
       "      <td>2</td>\n",
       "      <td>1</td>\n",
       "      <td>4</td>\n",
       "      <td>...</td>\n",
       "      <td>25</td>\n",
       "      <td>0</td>\n",
       "      <td>0</td>\n",
       "      <td>0</td>\n",
       "      <td>0</td>\n",
       "      <td>0</td>\n",
       "      <td>0</td>\n",
       "      <td>0</td>\n",
       "      <td>0</td>\n",
       "      <td>0</td>\n",
       "    </tr>\n",
       "    <tr>\n",
       "      <th>3</th>\n",
       "      <td>20130101130611</td>\n",
       "      <td>7731257.992805</td>\n",
       "      <td>-1</td>\n",
       "      <td>50</td>\n",
       "      <td>2</td>\n",
       "      <td>40</td>\n",
       "      <td>1</td>\n",
       "      <td>1</td>\n",
       "      <td>1</td>\n",
       "      <td>1</td>\n",
       "      <td>...</td>\n",
       "      <td>0</td>\n",
       "      <td>0</td>\n",
       "      <td>0</td>\n",
       "      <td>0</td>\n",
       "      <td>0</td>\n",
       "      <td>0</td>\n",
       "      <td>0</td>\n",
       "      <td>0</td>\n",
       "      <td>0</td>\n",
       "      <td>0</td>\n",
       "    </tr>\n",
       "    <tr>\n",
       "      <th>4</th>\n",
       "      <td>20130101130616</td>\n",
       "      <td>4725269.227067</td>\n",
       "      <td>-1</td>\n",
       "      <td>45</td>\n",
       "      <td>2</td>\n",
       "      <td>40</td>\n",
       "      <td>2</td>\n",
       "      <td>2</td>\n",
       "      <td>1</td>\n",
       "      <td>1</td>\n",
       "      <td>...</td>\n",
       "      <td>0</td>\n",
       "      <td>0</td>\n",
       "      <td>0</td>\n",
       "      <td>0</td>\n",
       "      <td>0</td>\n",
       "      <td>0</td>\n",
       "      <td>0</td>\n",
       "      <td>0</td>\n",
       "      <td>0</td>\n",
       "      <td>0</td>\n",
       "    </tr>\n",
       "  </tbody>\n",
       "</table>\n",
       "<p>5 rows × 413 columns</p>\n",
       "</div>"
      ],
      "text/plain": [
       "         tucaseid        TUFINLWGT  TRYHHCHILD  TEAGE  TESEX  PEEDUCA  \\\n",
       "0  20130101130004  11899905.662034          12     22      2       40   \n",
       "1  20130101130112   4447638.009513           1     39      1       43   \n",
       "2  20130101130123  10377056.507734          -1     47      2       40   \n",
       "3  20130101130611   7731257.992805          -1     50      2       40   \n",
       "4  20130101130616   4725269.227067          -1     45      2       40   \n",
       "\n",
       "   PTDTRACE  PEHSPNON  GTMETSTA  TELFS   ...     t181501  t181599  t181601  \\\n",
       "0         8         2         1      5   ...           0        0        0   \n",
       "1         1         2         1      1   ...           0        0        0   \n",
       "2         1         2         1      4   ...          25        0        0   \n",
       "3         1         1         1      1   ...           0        0        0   \n",
       "4         2         2         1      1   ...           0        0        0   \n",
       "\n",
       "   t181801  t189999  t500101  t500103  t500105  t500106  t500107  \n",
       "0        0        0        0        0        0        0        0  \n",
       "1        0        0        0        0        0        0        0  \n",
       "2        0        0        0        0        0        0        0  \n",
       "3        0        0        0        0        0        0        0  \n",
       "4        0        0        0        0        0        0        0  \n",
       "\n",
       "[5 rows x 413 columns]"
      ]
     },
     "execution_count": 6,
     "metadata": {},
     "output_type": "execute_result"
    }
   ],
   "source": [
    "summary.head()"
   ]
  },
  {
   "cell_type": "code",
   "execution_count": 7,
   "metadata": {
    "collapsed": false
   },
   "outputs": [],
   "source": [
    "cps = pd.read_csv(\"atusdata/atuscps_2013.dat\")\n",
    "cps = cps[cps.TULINENO == 1]"
   ]
  },
  {
   "cell_type": "code",
   "execution_count": 8,
   "metadata": {
    "collapsed": false
   },
   "outputs": [
    {
     "name": "stdout",
     "output_type": "stream",
     "text": [
      "<class 'pandas.core.frame.DataFrame'>\n",
      "Int64Index: 11385 entries, 0 to 11384\n",
      "Columns: 788 entries, tucaseid to PRDASIAN\n",
      "dtypes: float64(3), int64(785)\n",
      "memory usage: 68.5 MB\n"
     ]
    }
   ],
   "source": [
    "summary_cps = pd.merge(summary, cps, how=\"inner\", left_on=\"tucaseid\", right_on=\"TUCASEID\")\n",
    "summary_cps.info()"
   ]
  },
  {
   "cell_type": "code",
   "execution_count": 11,
   "metadata": {
    "collapsed": false
   },
   "outputs": [],
   "source": [
    "adults_crit = summary_cps.TEAGE >= 18\n",
    "child_crit = summary_cps.TEAGE < 18\n",
    "no_children_crit = summary_cps.TRCHILDNUM == 0\n",
    "with_children_crit = summary_cps.TRCHILDNUM > 0\n",
    "men_crit = summary_cps.TESEX == 1\n",
    "women_crit = summary_cps.TESEX == 2\n",
    "married_crit = summary_cps.PEMARITL.isin([1, 2]) \n",
    "divorced_crit = summary_cps.PEMARITL.isin([4, 5]) \n",
    "single_crit = summary_cps.PEMARITL.isin([3, 4, 5, 6])\n",
    "never_married_crit = summary_cps.PEMARITL == 6\n",
    "millenials_crit_1 = summary_cps.TEAGE <= 29\n",
    "gen_x_crit_1 = summary_cps.TEAGE > 29\n",
    "gen_x_crit_2 = summary_cps.TEAGE < 49\n",
    "boomers_crit_1 = summary_cps.TEAGE >= 49\n",
    "boomers_crit_2 = summary_cps.TEAGE <= 67"
   ]
  },
  {
   "cell_type": "markdown",
   "metadata": {},
   "source": [
    "# Demographic Groups"
   ]
  },
  {
   "cell_type": "code",
   "execution_count": 12,
   "metadata": {
    "collapsed": false
   },
   "outputs": [],
   "source": [
    "adults = summary_cps[adults_crit]\n",
    "children = summary_cps[child_crit]\n",
    "people_no_children = summary_cps[no_children_crit]\n",
    "people_with_children = summary_cps[with_children_crit]\n",
    "men = summary_cps[men_crit]\n",
    "women = summary_cps[women_crit]\n",
    "men_no_children = summary_cps[men_crit & no_children_crit]\n",
    "men_with_children = summary_cps[men_crit & with_children_crit]\n",
    "women_no_children = summary_cps[women_crit & no_children_crit]\n",
    "women_with_children = summary_cps[women_crit & with_children_crit]\n",
    "married = summary_cps[married_crit]\n",
    "divorced = summary_cps[divorced_crit]\n",
    "single = summary_cps[single_crit]\n",
    "never_married = summary_cps[never_married_crit]\n",
    "married_with_children = summary_cps[married_crit & with_children_crit]\n",
    "married_no_children = summary_cps[married_crit & no_children_crit]\n",
    "single_with_children = summary_cps[single_crit & with_children_crit]\n",
    "single_no_children = summary_cps[single_crit & no_children_crit]\n",
    "millenials = summary_cps[adults_crit & millenials_crit_1]\n",
    "gen_x = summary_cps[gen_x_crit_1 & gen_x_crit_2]\n",
    "boomers = summary_cps[boomers_crit_1 & boomers_crit_2]"
   ]
  },
  {
   "cell_type": "code",
   "execution_count": 13,
   "metadata": {
    "collapsed": false
   },
   "outputs": [],
   "source": [
    "def activity_columns(data, activity_code):\n",
    "    \"\"\"For the activity code given, return all columns that fall under that activity.\"\"\"\n",
    "    col_prefix = \"t{}\".format(activity_code)\n",
    "    return [column for column in data.columns if re.match(col_prefix, column)]\n",
    "\n",
    "def average_minutes(data, activity_code):\n",
    "    cols = activity_columns(data, activity_code)\n",
    "    activity_data = data[cols]\n",
    "    activity_sums = activity_data.sum(axis=1)\n",
    "    data = data[['TUFINLWGT']]\n",
    "    data['minutes'] = activity_sums\n",
    "    data = data.rename(columns={\"TUFINLWGT\": \"weight\"})\n",
    "    data['weighted_minutes'] = data.weight * data.minutes\n",
    "    return data.weighted_minutes.sum() / data.weight.sum()"
   ]
  },
  {
   "cell_type": "code",
   "execution_count": 14,
   "metadata": {
    "collapsed": false
   },
   "outputs": [
    {
     "name": "stderr",
     "output_type": "stream",
     "text": [
      "/Users/abarringer/new_python/.direnv/python-3.5.0/lib/python3.5/site-packages/ipykernel/__main__.py:11: SettingWithCopyWarning: \n",
      "A value is trying to be set on a copy of a slice from a DataFrame.\n",
      "Try using .loc[row_indexer,col_indexer] = value instead\n",
      "\n",
      "See the the caveats in the documentation: http://pandas.pydata.org/pandas-docs/stable/indexing.html#indexing-view-versus-copy\n"
     ]
    },
    {
     "data": {
      "text/plain": [
       "10.038484964938393"
      ]
     },
     "execution_count": 14,
     "metadata": {},
     "output_type": "execute_result"
    }
   ],
   "source": [
    "average_minutes(women, '14')"
   ]
  },
  {
   "cell_type": "code",
   "execution_count": 15,
   "metadata": {
    "collapsed": false
   },
   "outputs": [],
   "source": [
    "def activity_present(data, activity_code, minutes):\n",
    "    cols = activity_columns(data, activity_code)\n",
    "    data[\"sum\"] = data[cols].sum(axis=1)\n",
    "    activity_data = data[data[\"sum\"] >= minutes]\n",
    "    return activity_data.drop(\"sum\", axis=1)\n",
    "\n",
    "def no_activity(data, activity_code):\n",
    "    cols = activity_columns(data, activity_code)\n",
    "    data[\"sum\"] = data[cols].sum(axis=1)\n",
    "    activity_data = data[data[\"sum\"] == 0]\n",
    "    return activity_data.drop(\"sum\", axis=1)"
   ]
  },
  {
   "cell_type": "code",
   "execution_count": 30,
   "metadata": {
    "collapsed": false
   },
   "outputs": [
    {
     "name": "stderr",
     "output_type": "stream",
     "text": [
      "/Users/abarringer/new_python/.direnv/python-3.5.0/lib/python3.5/site-packages/ipykernel/__main__.py:11: SettingWithCopyWarning: \n",
      "A value is trying to be set on a copy of a slice from a DataFrame.\n",
      "Try using .loc[row_indexer,col_indexer] = value instead\n",
      "\n",
      "See the the caveats in the documentation: http://pandas.pydata.org/pandas-docs/stable/indexing.html#indexing-view-versus-copy\n"
     ]
    }
   ],
   "source": [
    "all_religion = average_minutes(summary_cps, \"14\")\n",
    "men_religion = average_minutes(men, \"14\")\n",
    "women_religion = average_minutes(women, \"14\")"
   ]
  },
  {
   "cell_type": "code",
   "execution_count": 31,
   "metadata": {
    "collapsed": true
   },
   "outputs": [],
   "source": [
    "religion_by_sex = pd.Series({\"Men\": men_religion, \"Women\": women_religion})"
   ]
  },
  {
   "cell_type": "code",
   "execution_count": 72,
   "metadata": {
    "collapsed": false
   },
   "outputs": [],
   "source": [
    "#religion_by_sex.plot(kind=\"bar\", label=\"Minutes\", title=\"Avg Minutes per Day for Religious Activity\", figsize=(8, 5))\n",
    "#plt.hlines(all_religion, xmin=-1, xmax=12, linestyle=\"dashed\", label=\"Total Avg Minutes\")\n",
    "#plt.legend()\n",
    "#plt.show()"
   ]
  },
  {
   "cell_type": "code",
   "execution_count": 33,
   "metadata": {
    "collapsed": false
   },
   "outputs": [
    {
     "name": "stderr",
     "output_type": "stream",
     "text": [
      "/Users/abarringer/new_python/.direnv/python-3.5.0/lib/python3.5/site-packages/ipykernel/__main__.py:11: SettingWithCopyWarning: \n",
      "A value is trying to be set on a copy of a slice from a DataFrame.\n",
      "Try using .loc[row_indexer,col_indexer] = value instead\n",
      "\n",
      "See the the caveats in the documentation: http://pandas.pydata.org/pandas-docs/stable/indexing.html#indexing-view-versus-copy\n"
     ]
    }
   ],
   "source": [
    "millenials_religion = average_minutes(millenials, \"14\")\n",
    "gen_x_religion = average_minutes(gen_x, \"14\")\n",
    "boomers_religion = average_minutes(boomers, \"14\")"
   ]
  },
  {
   "cell_type": "code",
   "execution_count": 34,
   "metadata": {
    "collapsed": true
   },
   "outputs": [],
   "source": [
    "religion_by_age = pd.Series({\"Millenials\": millenials_religion, \"Gen X\": gen_x_religion, \"Boomers\": boomers_religion})"
   ]
  },
  {
   "cell_type": "code",
   "execution_count": 71,
   "metadata": {
    "collapsed": false
   },
   "outputs": [],
   "source": [
    "#religion_by_age.plot(kind=\"bar\", label=\"Minutes\", title=\"Avg Minutes per Day for Religious Activity\", figsize=(8, 5))\n",
    "#plt.hlines(all_religion, xmin=-1, xmax=12, linestyle=\"dashed\", label=\"Total Avg Minutes\")\n",
    "#plt.legend()\n",
    "#plt.show()"
   ]
  },
  {
   "cell_type": "markdown",
   "metadata": {},
   "source": [
    "# Gender/Age Demographics"
   ]
  },
  {
   "cell_type": "code",
   "execution_count": 36,
   "metadata": {
    "collapsed": true
   },
   "outputs": [],
   "source": [
    "men_millenials = summary_cps[men_crit & adults_crit & millenials_crit_1]\n",
    "women_millenials = summary_cps[women_crit & adults_crit & millenials_crit_1]\n",
    "men_gen_x = summary_cps[men_crit & gen_x_crit_1 & gen_x_crit_2]\n",
    "women_gen_x = summary_cps[women_crit & gen_x_crit_1 & gen_x_crit_2]\n",
    "men_boomers = summary_cps[men_crit & boomers_crit_1 & boomers_crit_2]\n",
    "women_boomers = summary_cps[women_crit & boomers_crit_1 & boomers_crit_2]"
   ]
  },
  {
   "cell_type": "code",
   "execution_count": 37,
   "metadata": {
    "collapsed": false
   },
   "outputs": [
    {
     "name": "stderr",
     "output_type": "stream",
     "text": [
      "/Users/abarringer/new_python/.direnv/python-3.5.0/lib/python3.5/site-packages/ipykernel/__main__.py:11: SettingWithCopyWarning: \n",
      "A value is trying to be set on a copy of a slice from a DataFrame.\n",
      "Try using .loc[row_indexer,col_indexer] = value instead\n",
      "\n",
      "See the the caveats in the documentation: http://pandas.pydata.org/pandas-docs/stable/indexing.html#indexing-view-versus-copy\n"
     ]
    }
   ],
   "source": [
    "men_mill_religion = average_minutes(men_millenials, \"14\")\n",
    "women_mill_religion = average_minutes(women_millenials, \"14\")\n",
    "men_genx_religion = average_minutes(men_gen_x, \"14\")\n",
    "women_genx_religion = average_minutes(women_gen_x, \"14\")\n",
    "men_boomers_religion = average_minutes(men_boomers, \"14\")\n",
    "women_boomers_religion = average_minutes(women_boomers, \"14\")"
   ]
  },
  {
   "cell_type": "code",
   "execution_count": 63,
   "metadata": {
    "collapsed": false
   },
   "outputs": [],
   "source": [
    "mmrel = {\"Gender\": \"Men\", \"Age Group\": \"Millenials\", \"Religious Activity\": men_mill_religion}\n",
    "wmrel = {\"Gender\": \"Women\", \"Age Group\": \"Millenials\", \"Religious Activity\": women_mill_religion}\n",
    "mxrel = {\"Gender\": \"Men\", \"Age Group\": \"Gen X\", \"Religious Activity\": men_genx_religion}\n",
    "wxrel = {\"Gender\": \"Women\", \"Age Group\": \"Gen X\", \"Religious Activity\": women_genx_religion}\n",
    "mbrel = {\"Gender\": \"Men\", \"Age Group\": \"Boomers\", \"Religious Activity\": men_boomers_religion}\n",
    "wbrel = {\"Gender\": \"Women\", \"Age Group\": \"Boomers\", \"Religious Activity\": women_boomers_religion}\n",
    "mfmrel = {\"Gender\": \"Both\", \"Age Group\": \"Millenials\", \"Religious Activity\": millenials_religion}\n",
    "mfxrel = {\"Gender\": \"Both\", \"Age Group\": \"Gen X\", \"Religious Activity\": gen_x_religion}\n",
    "mfbrel = {\"Gender\": \"Both\", \"Age Group\": \"Boomers\", \"Religious Activity\": boomers_religion}\n",
    "religion_agemf = pd.DataFrame([mmrel, wmrel, mxrel, wxrel, mbrel, wbrel, mfmrel, mfxrel, mfbrel])"
   ]
  },
  {
   "cell_type": "code",
   "execution_count": 64,
   "metadata": {
    "collapsed": false
   },
   "outputs": [],
   "source": [
    "religion_table = pd.pivot_table(religion_agemf, values=\"Religious Activity\", index=\"Age Group\", columns=\"Gender\")"
   ]
  },
  {
   "cell_type": "code",
   "execution_count": 66,
   "metadata": {
    "collapsed": false
   },
   "outputs": [
    {
     "data": {
      "image/png": "[encoded data removed]",
      "text/plain": [
       "<matplotlib.figure.Figure at 0x112e68b38>"
      ]
     },
     "metadata": {},
     "output_type": "display_data"
    }
   ],
   "source": [
    "religion_table.plot(kind=\"bar\", label=\"Minutes\", title=\"Avg Minutes per Day for Religious Activity by Age & Gender\", figsize=(8, 5))\n",
    "plt.hlines(all_religion, xmin=-1, xmax=12, linestyle=\"dashed\", label=\"Mean for Survey\")\n",
    "plt.legend()\n",
    "plt.show()"
   ]
  },
  {
   "cell_type": "markdown",
   "metadata": {},
   "source": [
    "We can see from this graph that women in the baby boomers age group spend more time on average engaging in religious or spiritual activity than any other age or gender group. The baby boomer generation also shows the greatest difference by gender, as women outstretched men by quite a bit. While both men and women in the millenials generation are pretty far below the mean for the survey, men in that age group spend more time than women in religious activity."
   ]
  },
  {
   "cell_type": "markdown",
   "metadata": {},
   "source": [
    "# Marital Status/Age Demographics"
   ]
  },
  {
   "cell_type": "code",
   "execution_count": 47,
   "metadata": {
    "collapsed": true
   },
   "outputs": [],
   "source": [
    "married_millenials = summary_cps[married_crit & adults_crit & millenials_crit_1]\n",
    "single_millenials = summary_cps[single_crit & adults_crit & millenials_crit_1]\n",
    "married_gen_x = summary_cps[married_crit & gen_x_crit_1 & gen_x_crit_2]\n",
    "single_gen_x = summary_cps[single_crit & gen_x_crit_1 & gen_x_crit_2]\n",
    "married_boomers = summary_cps[married_crit & boomers_crit_1 & boomers_crit_2]\n",
    "single_boomers = summary_cps[single_crit & boomers_crit_1 & boomers_crit_2]"
   ]
  },
  {
   "cell_type": "code",
   "execution_count": 52,
   "metadata": {
    "collapsed": false
   },
   "outputs": [
    {
     "name": "stderr",
     "output_type": "stream",
     "text": [
      "/Users/abarringer/new_python/.direnv/python-3.5.0/lib/python3.5/site-packages/ipykernel/__main__.py:11: SettingWithCopyWarning: \n",
      "A value is trying to be set on a copy of a slice from a DataFrame.\n",
      "Try using .loc[row_indexer,col_indexer] = value instead\n",
      "\n",
      "See the the caveats in the documentation: http://pandas.pydata.org/pandas-docs/stable/indexing.html#indexing-view-versus-copy\n"
     ]
    }
   ],
   "source": [
    "marr_mill_religion = average_minutes(married_millenials, \"14\")\n",
    "sin_mill_religion = average_minutes(single_millenials, \"14\")\n",
    "marr_genx_religion = average_minutes(married_gen_x, \"14\")\n",
    "sin_genx_religion = average_minutes(single_gen_x, \"14\")\n",
    "marr_boomers_religion = average_minutes(married_boomers, \"14\")\n",
    "sin_boomers_religion = average_minutes(single_boomers, \"14\")"
   ]
  },
  {
   "cell_type": "code",
   "execution_count": 69,
   "metadata": {
    "collapsed": false
   },
   "outputs": [],
   "source": [
    "marr_mill_rel = {\"Marital Status\": \"Married\", \"Age Group\": \"Millenials\", \"Religious Activity\": marr_mill_religion}\n",
    "sin_mill_rel = {\"Marital Status\": \"Single\", \"Age Group\": \"Millenials\", \"Religious Activity\": sin_mill_religion}\n",
    "marr_x_rel = {\"Marital Status\": \"Married\", \"Age Group\": \"Gen X\", \"Religious Activity\": marr_genx_religion}\n",
    "sin_x_rel = {\"Marital Status\": \"Single\", \"Age Group\": \"Gen X\", \"Religious Activity\": sin_genx_religion}\n",
    "marr_boom_rel = {\"Marital Status\": \"Married\", \"Age Group\": \"Boomers\", \"Religious Activity\": marr_boomers_religion}\n",
    "sin_boom_rel = {\"Marital Status\": \"Single\", \"Age Group\": \"Boomers\", \"Religious Activity\": sin_boomers_religion}\n",
    "both_mill_rel = {\"Marital Status\": \"Total\", \"Age Group\": \"Millenials\", \"Religious Activity\": millenials_religion}\n",
    "both_x_rel = {\"Marital Status\": \"Total\", \"Age Group\": \"Gen X\", \"Religious Activity\": gen_x_religion}\n",
    "both_boom_rel = {\"Marital Status\": \"Total\", \"Age Group\": \"Boomers\", \"Religious Activity\": boomers_religion}\n",
    "religion_agemarital = pd.DataFrame([marr_mill_rel, sin_mill_rel, marr_x_rel, sin_x_rel, marr_boom_rel, sin_boom_rel, both_mill_rel, both_x_rel, both_boom_rel])\n",
    "religmarital_table = pd.pivot_table(religion_agemarital, values=\"Religious Activity\", index=\"Age Group\", columns=\"Marital Status\")"
   ]
  },
  {
   "cell_type": "code",
   "execution_count": 70,
   "metadata": {
    "collapsed": false
   },
   "outputs": [
    {
     "data": {
      "image/png": "[encoded data removed]",
      "text/plain": [
       "<matplotlib.figure.Figure at 0x11978c6d8>"
      ]
     },
     "metadata": {},
     "output_type": "display_data"
    }
   ],
   "source": [
    "religmarital_table.plot(kind=\"bar\", label=\"Minutes\", title=\"Avg Minutes per Day for Religious Activity by Age & Marital Status\", figsize=(8, 5))\n",
    "plt.hlines(all_religion, xmin=-1, xmax=12, linestyle=\"dashed\", label=\"Mean for Survey\")\n",
    "plt.legend()\n",
    "plt.show()"
   ]
  },
  {
   "cell_type": "markdown",
   "metadata": {},
   "source": [
    "For all three age groups, married people spend more time than single people engaging in religious and spiritual activity. The difference seems to be greatest among the millenials generation."
   ]
  },
  {
   "cell_type": "code",
   "execution_count": 57,
   "metadata": {
    "collapsed": false
   },
   "outputs": [
    {
     "name": "stderr",
     "output_type": "stream",
     "text": [
      "/Users/abarringer/new_python/.direnv/python-3.5.0/lib/python3.5/site-packages/ipykernel/__main__.py:11: SettingWithCopyWarning: \n",
      "A value is trying to be set on a copy of a slice from a DataFrame.\n",
      "Try using .loc[row_indexer,col_indexer] = value instead\n",
      "\n",
      "See the the caveats in the documentation: http://pandas.pydata.org/pandas-docs/stable/indexing.html#indexing-view-versus-copy\n"
     ]
    }
   ],
   "source": [
    "marr_child_religion = average_minutes(married_with_children, \"14\")\n",
    "marr_nochild_religion = average_minutes(married_no_children, \"14\")\n",
    "sing_child_religion = average_minutes(single_with_children, \"14\")\n",
    "sing_nochild_religion = average_minutes(single_no_children, \"14\")"
   ]
  },
  {
   "cell_type": "code",
   "execution_count": 61,
   "metadata": {
    "collapsed": false
   },
   "outputs": [],
   "source": [
    "marr_child_rel = {\"Marital Status\": \"Married\", \"Children\": \"With Children\", \"Religious Activity\": marr_child_religion}\n",
    "marr_nochild_rel = {\"Marital Status\": \"Married\", \"Children\": \"No Children\", \"Religious Activity\": marr_nochild_religion}\n",
    "sing_child_rel = {\"Marital Status\": \"Single\", \"Children\": \"With Children\", \"Religious Activity\": sing_child_religion}\n",
    "sing_nochild_rel = {\"Marital Status\": \"Single\", \"Children\": \"No Children\", \"Religious Activity\": sing_nochild_religion}\n",
    "religion_marrchild = pd.DataFrame([marr_child_rel, marr_nochild_rel, sing_child_rel, sing_nochild_rel])\n",
    "religmarrchild_table = pd.pivot_table(religion_marrchild, values=\"Religious Activity\", index=\"Marital Status\", columns=\"Children\")"
   ]
  },
  {
   "cell_type": "code",
   "execution_count": 73,
   "metadata": {
    "collapsed": false
   },
   "outputs": [
    {
     "data": {
      "image/png": "[encoded data removed]",
      "text/plain": [
       "<matplotlib.figure.Figure at 0x1278d4ef0>"
      ]
     },
     "metadata": {},
     "output_type": "display_data"
    }
   ],
   "source": [
    "religmarrchild_table.plot(kind=\"bar\", label=\"Minutes\", title=\"Avg Minutes per Day for Religious Activity by Family Status\", figsize=(8, 5))\n",
    "plt.hlines(all_religion, xmin=-1, xmax=12, linestyle=\"dashed\", label=\"Mean for Survey\")\n",
    "plt.legend()\n",
    "plt.show()"
   ]
  },
  {
   "cell_type": "markdown",
   "metadata": {},
   "source": [
    "Married people with no children spend more time in religious activity than married people with children or either single group."
   ]
  },
  {
   "cell_type": "code",
   "execution_count": 77,
   "metadata": {
    "collapsed": false
   },
   "outputs": [
    {
     "name": "stderr",
     "output_type": "stream",
     "text": [
      "/Users/abarringer/new_python/.direnv/python-3.5.0/lib/python3.5/site-packages/ipykernel/__main__.py:3: SettingWithCopyWarning: \n",
      "A value is trying to be set on a copy of a slice from a DataFrame.\n",
      "Try using .loc[row_indexer,col_indexer] = value instead\n",
      "\n",
      "See the the caveats in the documentation: http://pandas.pydata.org/pandas-docs/stable/indexing.html#indexing-view-versus-copy\n",
      "  app.launch_new_instance()\n"
     ]
    }
   ],
   "source": [
    "religious_adults = activity_present(adults, \"14\", 60)"
   ]
  },
  {
   "cell_type": "code",
   "execution_count": 78,
   "metadata": {
    "collapsed": false
   },
   "outputs": [
    {
     "name": "stderr",
     "output_type": "stream",
     "text": [
      "/Users/abarringer/new_python/.direnv/python-3.5.0/lib/python3.5/site-packages/ipykernel/__main__.py:11: SettingWithCopyWarning: \n",
      "A value is trying to be set on a copy of a slice from a DataFrame.\n",
      "Try using .loc[row_indexer,col_indexer] = value instead\n",
      "\n",
      "See the the caveats in the documentation: http://pandas.pydata.org/pandas-docs/stable/indexing.html#indexing-view-versus-copy\n"
     ]
    }
   ],
   "source": [
    "avg_reading = average_minutes(men, \"120312\")"
   ]
  },
  {
   "cell_type": "code",
   "execution_count": 80,
   "metadata": {
    "collapsed": false
   },
   "outputs": [
    {
     "name": "stderr",
     "output_type": "stream",
     "text": [
      "/Users/abarringer/new_python/.direnv/python-3.5.0/lib/python3.5/site-packages/ipykernel/__main__.py:11: SettingWithCopyWarning: \n",
      "A value is trying to be set on a copy of a slice from a DataFrame.\n",
      "Try using .loc[row_indexer,col_indexer] = value instead\n",
      "\n",
      "See the the caveats in the documentation: http://pandas.pydata.org/pandas-docs/stable/indexing.html#indexing-view-versus-copy\n"
     ]
    },
    {
     "data": {
      "text/plain": [
       "23.233290880934792"
      ]
     },
     "execution_count": 80,
     "metadata": {},
     "output_type": "execute_result"
    }
   ],
   "source": [
    "average_minutes(religious_adults, \"120312\")"
   ]
  },
  {
   "cell_type": "code",
   "execution_count": null,
   "metadata": {
    "collapsed": false
   },
   "outputs": [],
   "source": []
  },
  {
   "cell_type": "code",
   "execution_count": null,
   "metadata": {
    "collapsed": true
   },
   "outputs": [],
   "source": []
  }
 ],
 "metadata": {
  "kernelspec": {
   "display_name": "Python 3",
   "language": "python",
   "name": "python3"
  },
  "language_info": {
   "codemirror_mode": {
    "name": "ipython",
    "version": 3
   },
   "file_extension": ".py",
   "mimetype": "text/x-python",
   "name": "python",
   "nbconvert_exporter": "python",
   "pygments_lexer": "ipython3",
   "version": "3.5.0"
  }
 },
 "nbformat": 4,
 "nbformat_minor": 0
}
